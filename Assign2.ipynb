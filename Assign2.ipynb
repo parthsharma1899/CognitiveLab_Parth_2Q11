{
 "cells": [
  {
   "cell_type": "code",
   "execution_count": 1,
   "id": "6701ef1e-9e5a-41bb-8af9-352b57ccb100",
   "metadata": {},
   "outputs": [
    {
     "name": "stdout",
     "output_type": "stream",
     "text": [
      "Original list is [10, 20, 30, 40, 50, 60, 70, 80]\n",
      "List after appending elements is [10, 20, 30, 40, 50, 60, 70, 80, 200, 300]\n",
      "List after removing elements is [20, 40, 50, 60, 70, 80, 200, 300]\n",
      "List after sorting in ascending order is [20, 40, 50, 60, 70, 80, 200, 300]\n",
      "List after sorting in descending order is [300, 200, 80, 70, 60, 50, 40, 20]\n"
     ]
    }
   ],
   "source": [
    "#Q1\n",
    "L = [10,20,30,40,50,60,70,80];\n",
    "print(\"Original list is\",L);\n",
    "L.append(200);\n",
    "L.append(300);\n",
    "print(\"List after appending elements is\",L);\n",
    "L.remove(10);\n",
    "L.remove(30);\n",
    "print(\"List after removing elements is\",L);\n",
    "L.sort();\n",
    "print(\"List after sorting in ascending order is\",L);\n",
    "L.sort(reverse = \"True\");\n",
    "print(\"List after sorting in descending order is\",L);"
   ]
  },
  {
   "cell_type": "code",
   "execution_count": 2,
   "id": "e7f7b5ba-36e0-4ef4-b756-13bc3c86799a",
   "metadata": {},
   "outputs": [
    {
     "name": "stdout",
     "output_type": "stream",
     "text": [
      "Original tuple is (45, 89.5, 76, 45.4, 89, 92, 58, 45)\n",
      "Maximum element of tuple is 92 and its index is 5\n",
      "Minimum element of tuple is 45 and it appears 2 times\n",
      "Tuple as list is [45, 89.5, 76, 45.4, 89, 92, 58, 45]\n",
      "Tuple in reverse is (45, 58, 92, 89, 45.4, 76, 89.5, 45)\n"
     ]
    },
    {
     "name": "stdin",
     "output_type": "stream",
     "text": [
      "Enter score you want to search:  2\n"
     ]
    },
    {
     "name": "stdout",
     "output_type": "stream",
     "text": [
      "Element not present in tuple\n"
     ]
    }
   ],
   "source": [
    "#Q2\n",
    "T = (45,89.5,76,45.4,89,92,58,45);\n",
    "print(\"Original tuple is\",T);\n",
    "print(\"Maximum element of tuple is\",max(T),\"and its index is\",T.index(max(T)));\n",
    "print(\"Minimum element of tuple is\",min(T),\"and it appears\",T.count(min(T)),\"times\");\n",
    "L = list(T);\n",
    "print(\"Tuple as list is\",L);\n",
    "L.reverse();\n",
    "T = tuple(L);\n",
    "print(\"Tuple in reverse is\",T);\n",
    "n = int(input(\"Enter score you want to search: \"));\n",
    "if (n in T):\n",
    "    print(\"Element found at index\",T.index(n));\n",
    "else:\n",
    "    print(\"Element not present in tuple\");"
   ]
  },
  {
   "cell_type": "code",
   "execution_count": 3,
   "id": "1241a3bc-556f-42ca-913d-155b0841481e",
   "metadata": {},
   "outputs": [
    {
     "name": "stdout",
     "output_type": "stream",
     "text": [
      "No of even numbers are 48\n",
      "476 432 856 296 862 306 376 652 768 676 256 722 874 356 608 214 712 258 634 186 200 688 646 878 116 860 102 174 234 318 528 398 558 290 852 656 786 164 474 458 386 444 866 418 224 466 284 380 \n",
      "\n",
      "No of odd numbers are 52\n",
      "571 677 895 829 697 575 775 567 205 843 365 457 435 117 875 615 277 181 487 789 243 157 579 467 881 177 687 663 119 865 695 415 531 477 561 479 707 279 517 483 799 259 317 253 173 471 225 237 727 625 705 361 \n",
      "\n",
      "571 677 829 457 277 181 487 157 467 881 479 317 173 727 No of prime numbers are 14\n"
     ]
    }
   ],
   "source": [
    "#Q3\n",
    "import random as r;\n",
    "A = list(range(100,901));\n",
    "L = r.sample(A,100);\n",
    "cntEven = 0;\n",
    "cntOdd = 0;\n",
    "cntPrime = 0;\n",
    "for i in L:\n",
    "    if(i % 2 == 0):\n",
    "        cntEven += 1;\n",
    "    elif(i % 2 == 1):\n",
    "        cntOdd += 1;\n",
    "print(\"No of even numbers are\",cntEven);\n",
    "for i in L:\n",
    "    if(i % 2 == 0):\n",
    "        print(i,end = \" \");\n",
    "print(\"\\n\");\n",
    "print(\"No of odd numbers are\",cntOdd);\n",
    "for i in L:\n",
    "    if(i % 2 == 1):\n",
    "        print(i,end = \" \");\n",
    "print(\"\\n\");\n",
    "for i in L:\n",
    "    flag = 0;\n",
    "    for j in range(2,i):\n",
    "        if(i % j == 0):\n",
    "            flag = 1;\n",
    "            break;\n",
    "    if(flag == 0):\n",
    "        cntPrime += 1;\n",
    "        print(i,end = \" \");\n",
    "print(\"No of prime numbers are\",cntPrime);"
   ]
  },
  {
   "cell_type": "code",
   "execution_count": 4,
   "id": "5a64a9f8-98a5-445d-bb44-fe5177d71d7a",
   "metadata": {},
   "outputs": [
    {
     "name": "stdout",
     "output_type": "stream",
     "text": [
      "Unique scores achieved by both teams are {34, 45, 78, 23, 56, 90}\n",
      "Common scores of both teams are {90, 78}\n",
      "Scores exclusive of team A is {56, 34}\n",
      "Scores exclusive of team B is {45, 23}\n",
      "A is subset of B --> False\n",
      "B is subset of A --> False\n"
     ]
    },
    {
     "name": "stdin",
     "output_type": "stream",
     "text": [
      "Enter score you want to remove:  3\n"
     ]
    },
    {
     "name": "stdout",
     "output_type": "stream",
     "text": [
      "Element is not present in set A\n"
     ]
    }
   ],
   "source": [
    "#Q4\n",
    "A = set([34,56,78,90]);\n",
    "B = set([78,45,90,23]);\n",
    "print(\"Unique scores achieved by both teams are\",A.union(B));\n",
    "print(\"Common scores of both teams are\",A.intersection(B));\n",
    "print(\"Scores exclusive of team A is\",A-B);\n",
    "print(\"Scores exclusive of team B is\",B-A);\n",
    "print(\"A is subset of B -->\",A.issubset(B));\n",
    "print(\"B is subset of A -->\",B.issubset(A));\n",
    "n = int(input(\"Enter score you want to remove: \"));\n",
    "if (n in A):\n",
    "    A.remove(n);\n",
    "    print(\"Set A after removing the score is\",A);\n",
    "else:\n",
    "    print(\"Element is not present in set A\");\n"
   ]
  },
  {
   "cell_type": "code",
   "execution_count": 5,
   "id": "4cbcf674-c955-4f9c-b453-fd7671b43534",
   "metadata": {},
   "outputs": [
    {
     "name": "stdout",
     "output_type": "stream",
     "text": [
      "Original dictionary is {'name': 'Kelly', 'age': 25, 'salary': 8000, 'city': 'New York'}\n",
      "Modified dictionary is {'name': 'Kelly', 'age': 25, 'salary': 8000, 'location': 'New York'}\n"
     ]
    }
   ],
   "source": [
    "#Q5\n",
    "sample_dict = {\"name\" : \"Kelly\", \"age\" : 25, \"salary\" : 8000, \"city\" : \"New York\"};\n",
    "print(\"Original dictionary is\",sample_dict);\n",
    "sample_dict[\"location\"] = sample_dict[\"city\"];\n",
    "del sample_dict[\"city\"];\n",
    "print(\"Modified dictionary is\",sample_dict);"
   ]
  }
 ],
 "metadata": {
  "kernelspec": {
   "display_name": "Python [conda env:base] *",
   "language": "python",
   "name": "conda-base-py"
  },
  "language_info": {
   "codemirror_mode": {
    "name": "ipython",
    "version": 3
   },
   "file_extension": ".py",
   "mimetype": "text/x-python",
   "name": "python",
   "nbconvert_exporter": "python",
   "pygments_lexer": "ipython3",
   "version": "3.12.7"
  }
 },
 "nbformat": 4,
 "nbformat_minor": 5
}
