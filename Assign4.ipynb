{
 "cells": [
  {
   "cell_type": "code",
   "execution_count": 2,
   "id": "3950cf1d-c5c5-416d-a00e-b3be5e63f408",
   "metadata": {},
   "outputs": [
    {
     "name": "stdout",
     "output_type": "stream",
     "text": [
      "[3 4 5 6 7]\n",
      "[ 3  6  9 12 15]\n",
      "[0.5 1.  1.5 2.  2.5]\n"
     ]
    }
   ],
   "source": [
    "\n",
    "# Q.1 Write a program to create a NumPy 1D-array with 5 elements and perform basic operations like:\n",
    "# a)\tAddition of 2 in all the element\n",
    "# b)\tMultiply 3 with all the elements\n",
    "# c)\tDivide every element by 2\n",
    "\n",
    "import numpy as np\n",
    "\n",
    "myFirstArr = np.array([1,2,3,4,5])\n",
    "\n",
    "added2arr = myFirstArr+2\n",
    "print(added2arr)\n",
    "\n",
    "multiply3arr = myFirstArr*3\n",
    "print(multiply3arr)\n",
    "\n",
    "divide2arr = myFirstArr/2\n",
    "print(divide2arr)\n"
   ]
  },
  {
   "cell_type": "code",
   "execution_count": 4,
   "id": "49c7a212-b432-4601-8976-0dfc793237cd",
   "metadata": {},
   "outputs": [
    {
     "name": "stdout",
     "output_type": "stream",
     "text": [
      "1\n",
      "1\n"
     ]
    }
   ],
   "source": [
    "# Q.2 Questions on Basic NumPy Array:\n",
    "# a)\tReverse the NumPy array: arr = np.array([1, 2, 3, 6, 4, 5])\n",
    "# b)\tFind the most frequent value and their indice(s) in the following arrays:\n",
    "# i. x = np.array([1,2,3,4,5,1,2,1,1,1]) ii. y = np.array([1, 1, 1, 2, 3, 4, 2, 4, 3, 3, ])\n",
    "\n",
    "arr = np.array([1, 2, 3, 6, 4, 5])\n",
    "\n",
    "reverseArr = arr[::-1]\n",
    "x = np.array([1,2,3,4,5,1,2,1,1,1])\n",
    "y = np.array([1, 1, 1, 2, 3, 4, 2, 4, 3, 3])\n",
    "\n",
    "countsx = np.bincount(x)\n",
    "countsy = np.bincount(y)\n",
    "print(np.argmax(countsx))\n",
    "print(np.argmax(countsy))\n"
   ]
  },
  {
   "cell_type": "code",
   "execution_count": 8,
   "id": "7354aa90-ea9a-49ae-8e0b-3adce2120438",
   "metadata": {},
   "outputs": [
    {
     "name": "stdout",
     "output_type": "stream",
     "text": [
      "20\n",
      "70\n"
     ]
    }
   ],
   "source": [
    "# Q.3 For the given 2-D array arr=np.array([10, 20, 30], [40, 50, 60], [70, 80, 90]), access elements using row and column indices as follows:\n",
    "# a)\tAccess 1st row, 2nd column\n",
    "# b)\tAccess 3rd row, 1st column\n",
    "\n",
    "arr=np.array([[10, 20, 30], [40, 50, 60], [70, 80, 90]])\n",
    "\n",
    "print(arr[0,1])\n",
    "print(arr[2,0])"
   ]
  },
  {
   "cell_type": "code",
   "execution_count": 12,
   "id": "78d9a1f6-ca04-4bb4-9f6b-d63c1afab5b2",
   "metadata": {},
   "outputs": [
    {
     "name": "stdout",
     "output_type": "stream",
     "text": [
      "[ 10.    13.75  17.5   21.25  25.    28.75  32.5   36.25  40.    43.75\n",
      "  47.5   51.25  55.    58.75  62.5   66.25  70.    73.75  77.5   81.25\n",
      "  85.    88.75  92.5   96.25 100.  ]\n",
      "(25,)\n",
      "25\n",
      "float64\n",
      "200\n",
      "[[ 10.  ]\n",
      " [ 13.75]\n",
      " [ 17.5 ]\n",
      " [ 21.25]\n",
      " [ 25.  ]\n",
      " [ 28.75]\n",
      " [ 32.5 ]\n",
      " [ 36.25]\n",
      " [ 40.  ]\n",
      " [ 43.75]\n",
      " [ 47.5 ]\n",
      " [ 51.25]\n",
      " [ 55.  ]\n",
      " [ 58.75]\n",
      " [ 62.5 ]\n",
      " [ 66.25]\n",
      " [ 70.  ]\n",
      " [ 73.75]\n",
      " [ 77.5 ]\n",
      " [ 81.25]\n",
      " [ 85.  ]\n",
      " [ 88.75]\n",
      " [ 92.5 ]\n",
      " [ 96.25]\n",
      " [100.  ]]\n",
      "[[1 4]\n",
      " [2 5]\n",
      " [3 6]]\n"
     ]
    }
   ],
   "source": [
    "# Q.4 Write program to create an 1-D NumPy array named <> with evenly spaced 25 numbers from 10 to 100 using linspace().\n",
    "# Print the dimensions of the array, shape, total elements, the data type of each element and total number of bytes consumed by the array.\n",
    "# Find the transpose of this array using reshape() attribute.\n",
    "# Can we do the same with T attribute?\n",
    "\n",
    "ParthSharma = np.linspace(10,100,num=25)\n",
    "print(ParthSharma)\n",
    "\n",
    "print(ParthSharma.shape)\n",
    "\n",
    "print(ParthSharma.size)\n",
    "\n",
    "print(ParthSharma.dtype)\n",
    "\n",
    "print(ParthSharma.nbytes)\n",
    "\n",
    "print(ParthSharma.reshape(ParthSharma.size,1))\n",
    "\n",
    "sample = np.array([[1,2,3],[4,5,6]])\n",
    "print(sample.T)"
   ]
  },
  {
   "cell_type": "code",
   "execution_count": 14,
   "id": "07665fac-b681-45f0-b933-d3583a30af18",
   "metadata": {},
   "outputs": [
    {
     "name": "stdout",
     "output_type": "stream",
     "text": [
      "Mean is:  42.5\n",
      "Median is:  37.5\n",
      "Max is:  90\n",
      "Min is:  10\n",
      "Unique is:  [10 15 20 30 35 40 50 60 70 90]\n",
      "[[10 20 30]\n",
      " [40 50 60]\n",
      " [70 70 90]\n",
      " [15 20 35]]\n"
     ]
    },
    {
     "ename": "ValueError",
     "evalue": "cannot reshape array of size 12 into shape (2,3)",
     "output_type": "error",
     "traceback": [
      "\u001b[0;31m---------------------------------------------------------------------------\u001b[0m",
      "\u001b[0;31mValueError\u001b[0m                                Traceback (most recent call last)",
      "Cell \u001b[0;32mIn[14], line 21\u001b[0m\n\u001b[1;32m     18\u001b[0m reshaped_ucs420_Parth \u001b[38;5;241m=\u001b[39m ucs420_Parth\u001b[38;5;241m.\u001b[39mreshape(\u001b[38;5;241m4\u001b[39m,\u001b[38;5;241m3\u001b[39m)\n\u001b[1;32m     19\u001b[0m \u001b[38;5;28mprint\u001b[39m(reshaped_ucs420_Parth)\n\u001b[0;32m---> 21\u001b[0m resized_ucs420_Parth \u001b[38;5;241m=\u001b[39m ucs420_Parth\u001b[38;5;241m.\u001b[39mreshape(\u001b[38;5;241m2\u001b[39m,\u001b[38;5;241m3\u001b[39m)\n\u001b[1;32m     22\u001b[0m \u001b[38;5;28mprint\u001b[39m(resized_ucs420_Parth)\n",
      "\u001b[0;31mValueError\u001b[0m: cannot reshape array of size 12 into shape (2,3)"
     ]
    }
   ],
   "source": [
    "# Q5. Create a 2-D Array of three rows and four columns, named ucs420_> with following values – 10, 20, 30, 40, 50, 60, 70, 80, 90, 15, 20, 35.\n",
    "# Compute the mean, median, max, min, unique elements.\n",
    "# Reshape the array to four rows and three columns and name it as reshaped_ ucs420_>.\n",
    "# Resize the array to two rows and three columns and name it as resized_ ucs420_>.\n",
    "\n",
    "import numpy as np\n",
    "\n",
    "sample = np.array([10,20,30,40,50,60,70,70,90,15,20,35])\n",
    "\n",
    "ucs420_Parth = sample.reshape(3,4)\n",
    "print(\"Mean is: \" , np.mean(ucs420_Parth))\n",
    "print(\"Median is: \" , np.median(ucs420_Parth))\n",
    "print(\"Max is: \" , np.amax(ucs420_Parth))\n",
    "print(\"Min is: \" , np.amin(ucs420_Parth))\n",
    "print(\"Unique is: \" , np.unique(ucs420_Parth))\n",
    "\n",
    "\n",
    "reshaped_ucs420_Parth = ucs420_Parth.reshape(4,3)\n",
    "print(reshaped_ucs420_Parth)\n",
    "\n",
    "resized_ucs420_Parth = ucs420_Parth.reshape(2,3)\n",
    "print(resized_ucs420_Parth)\n"
   ]
  },
  {
   "cell_type": "code",
   "execution_count": null,
   "id": "bd98d55c-3d64-4d89-845d-04c98324df6e",
   "metadata": {},
   "outputs": [],
   "source": []
  }
 ],
 "metadata": {
  "kernelspec": {
   "display_name": "Python [conda env:base] *",
   "language": "python",
   "name": "conda-base-py"
  },
  "language_info": {
   "codemirror_mode": {
    "name": "ipython",
    "version": 3
   },
   "file_extension": ".py",
   "mimetype": "text/x-python",
   "name": "python",
   "nbconvert_exporter": "python",
   "pygments_lexer": "ipython3",
   "version": "3.12.7"
  }
 },
 "nbformat": 4,
 "nbformat_minor": 5
}
