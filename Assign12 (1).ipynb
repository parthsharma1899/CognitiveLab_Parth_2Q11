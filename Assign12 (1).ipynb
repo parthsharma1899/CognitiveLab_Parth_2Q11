{
 "cells": [
  {
   "cell_type": "code",
   "execution_count": null,
   "id": "04f8a0ea-2970-4f3e-bc73-c34c72339e90",
   "metadata": {},
   "outputs": [],
   "source": [
    "\n",
    "!git clone https://github.com/gunthercox/ChatterBot.git\n",
    "%cd ChatterBot\n",
    "!pip install -e .\n",
    "\n",
    "\n",
    "from chatterbot import ChatBot\n",
    "from chatterbot.trainers import ListTrainer\n",
    "\n",
    "print(\"ChatterBot is working on Colab!\")\n"
   ]
  },
  {
   "cell_type": "code",
   "execution_count": null,
   "id": "04f18bef-40de-4fef-b615-d17fab54c6cd",
   "metadata": {},
   "outputs": [],
   "source": [
    "\n",
    "healthbot = ChatBot(\n",
    "    \"HealthBot\",\n",
    "    read_only=True,\n",
    "    logic_adapters=[\n",
    "        \"chatterbot.logic.BestMatch\",\n",
    "        \"chatterbot.logic.MathematicalEvaluation\"\n",
    "    ]\n",
    ")\n",
    "     "
   ]
  },
  {
   "cell_type": "code",
   "execution_count": null,
   "id": "71b394cd-e618-4aad-a0f9-1f8082a2b6a1",
   "metadata": {},
   "outputs": [],
   "source": [
    "\n",
    "trainer = ListTrainer(healthbot)\n",
    "conversations = [\n",
    "    'Hi',\n",
    "    'Hello! I am HealthBot. How can I assist you today?',\n",
    "    'Hello',\n",
    "    'Hi! Do you have a health-related question?',\n",
    "    'I have a headache',\n",
    "    'You should rest, stay hydrated, and take a mild pain reliever if needed.',\n",
    "    'What should I do if I have a fever?',\n",
    "    'Drink plenty of fluids and rest. If the fever persists, please consult a doctor.',\n",
    "    'I feel dizzy',\n",
    "    'Sit down, breathe deeply, and drink water. If it continues, seek medical help.',\n",
    "    'What should I eat for a cold?',\n",
    "    'Warm fluids, soups, citrus fruits, and light meals help during a cold.',\n",
    "    'How to stay healthy?',\n",
    "    'Eat balanced meals, exercise regularly, stay hydrated, and get enough sleep.',\n",
    "    'What should I do in case of a cut?',\n",
    "    'Clean the wound with water, apply antiseptic, and cover it with a clean bandage.',\n",
    "    'How much water should I drink daily?',\n",
    "    'Generally, 2 to 3 liters per day is recommended, but it varies based on your activity.',\n",
    "    'Thank you',\n",
    "    'You’re welcome! Take care.',\n",
    "    'Bye',\n",
    "    'Goodbye! Stay healthy.'\n",
    "]"
   ]
  },
  {
   "cell_type": "code",
   "execution_count": null,
   "id": "e317783c-ca2d-4a08-a4ec-59e88d9d4734",
   "metadata": {},
   "outputs": [],
   "source": [
    "\n",
    "trainer.train(conversations)\n",
    "print(\"HealthBot training complete.\")"
   ]
  },
  {
   "cell_type": "code",
   "execution_count": null,
   "id": "81513561-0c07-4ef3-98f6-ea38125579b9",
   "metadata": {},
   "outputs": [],
   "source": [
    "\n",
    "print(\"Ask something to HealthBot (type 'exit' to end):\\n\")\n",
    "\n",
    "while True:\n",
    "    user_input = input(\"You: \")\n",
    "    if user_input.lower() == 'exit':\n",
    "        print(\"HealthBot: Bye! Stay healthy.\")\n",
    "        break\n",
    "    response = healthbot.get_response(user_input)\n",
    "    print(f\"HealthBot: {response}\")"
   ]
  },
  {
   "cell_type": "code",
   "execution_count": null,
   "id": "ac611d58-ce52-4b3a-abff-f8f0ca514abf",
   "metadata": {},
   "outputs": [],
   "source": [
    "\n",
    "!pip install textblob\n",
    "import nltk\n",
    "nltk.download('punkt')\n",
    "\n",
    "from textblob import TextBlob\n",
    "\n",
    "print(\"Ask something to HealthBot (type 'exit' to end):\\n\")\n",
    "\n",
    "while True:\n",
    "    user_input = input(\"You: \")\n",
    "    if user_input.lower() == 'exit':\n",
    "        print(\"HealthBot: Bye! Stay healthy.\")\n",
    "        break\n",
    "\n",
    "    # Analyze sentiment\n",
    "    blob = TextBlob(user_input)\n",
    "    polarity = blob.sentiment.polarity\n",
    "\n",
    "    # Add empathetic response based on sentiment\n",
    "    if polarity < -0.3:\n",
    "        prefix = \"I'm sorry you're feeling that way. \"\n",
    "    elif polarity > 0.3:\n",
    "        prefix = \"That's great to hear! \"\n",
    "    else:\n",
    "        prefix = \"\"\n",
    "\n",
    "    # Get chatbot reply\n",
    "    response = healthbot.get_response(user_input)\n",
    "\n",
    "    print(f\"HealthBot: {prefix}{response}\")"
   ]
  },
  {
   "cell_type": "code",
   "execution_count": null,
   "id": "014df9c8-c732-47d2-b320-cff3daed599c",
   "metadata": {},
   "outputs": [],
   "source": []
  }
 ],
 "metadata": {
  "kernelspec": {
   "display_name": "Python [conda env:base] *",
   "language": "python",
   "name": "conda-base-py"
  },
  "language_info": {
   "codemirror_mode": {
    "name": "ipython",
    "version": 3
   },
   "file_extension": ".py",
   "mimetype": "text/x-python",
   "name": "python",
   "nbconvert_exporter": "python",
   "pygments_lexer": "ipython3",
   "version": "3.12.7"
  }
 },
 "nbformat": 4,
 "nbformat_minor": 5
}
